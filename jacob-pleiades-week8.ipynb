{
 "cells": [
  {
   "cell_type": "code",
   "execution_count": 1,
   "metadata": {},
   "outputs": [
    {
     "name": "stdout",
     "output_type": "stream",
     "text": [
      "(35.635409, 31.858619)\n"
     ]
    }
   ],
   "source": [
    "import json\n",
    "import urllib.request\n",
    "\n",
    "def get_pleiades_json(pleiades_id):\n",
    "    # pleiades_id: STR\n",
    "    pleiades_url = \"https://raw.githubusercontent.com/ryanfb/pleiades-geojson/gh-pages/geojson/%s.geojson\" % pleiades_id\n",
    "    try:\n",
    "        with urllib.request.urlopen(pleiades_url) as url:\n",
    "            pleiades_geojson = json.loads(url.read().decode())\n",
    "        return pleiades_geojson\n",
    "    except:\n",
    "        return None\n",
    "    \n",
    "    \n",
    "def get_pleiades_coordinates(pleiades_geojson):\n",
    "    # pleiades_geojson: DICT\n",
    "    try:\n",
    "        geometry = pleiades_geojson['features'][0]['geometry']\n",
    "        if geometry['type'] == 'Point':\n",
    "            coordinates = geometry['coordinates']\n",
    "        else:\n",
    "            coordinates = pleiades_geojson['reprPoint']\n",
    "        return tuple(coordinates)\n",
    "    except:\n",
    "        return (None, None)\n",
    "        "
   ]
  },
  {
   "cell_type": "code",
   "execution_count": 2,
   "metadata": {},
   "outputs": [
    {
     "name": "stdout",
     "output_type": "stream",
     "text": [
      "(30.762808, 29.107063)\n"
     ]
    }
   ],
   "source": [
    "pleiades_test = 737072 # Tebtynis\n",
    "print(get_pleiades_coordinates(get_pleiades_json(pleiades_test)))"
   ]
  },
  {
   "cell_type": "code",
   "execution_count": 3,
   "metadata": {},
   "outputs": [
    {
     "name": "stdout",
     "output_type": "stream",
     "text": [
      "(32.625392, 25.658034)\n"
     ]
    }
   ],
   "source": [
    "pleiades_test = 786050 # Karnak\n",
    "print(get_pleiades_coordinates(get_pleiades_json(pleiades_test)))"
   ]
  },
  {
   "cell_type": "code",
   "execution_count": 4,
   "metadata": {},
   "outputs": [
    {
     "name": "stdout",
     "output_type": "stream",
     "text": [
      "(31.918201, 26.186542)\n"
     ]
    }
   ],
   "source": [
    "pleiades_test = 756512 # Abydos\n",
    "print(get_pleiades_coordinates(get_pleiades_json(pleiades_test)))"
   ]
  },
  {
   "cell_type": "code",
   "execution_count": 5,
   "metadata": {},
   "outputs": [
    {
     "name": "stdout",
     "output_type": "stream",
     "text": [
      "(30.882706, 27.813026)\n"
     ]
    }
   ],
   "source": [
    "pleiades_test = 756518 # Antinoopolis\n",
    "print(get_pleiades_coordinates(get_pleiades_json(pleiades_test)))"
   ]
  },
  {
   "cell_type": "code",
   "execution_count": 6,
   "metadata": {},
   "outputs": [
    {
     "name": "stdout",
     "output_type": "stream",
     "text": [
      "(30.65172, 28.542574)\n"
     ]
    }
   ],
   "source": [
    "pleiades_test = 736983 # Oxyrhynuchus\n",
    "print(get_pleiades_coordinates(get_pleiades_json(pleiades_test)))"
   ]
  },
  {
   "cell_type": "code",
   "execution_count": 7,
   "metadata": {},
   "outputs": [
    {
     "name": "stdout",
     "output_type": "stream",
     "text": [
      "(30.844081, 29.309049)\n"
     ]
    }
   ],
   "source": [
    "pleiades_test = 736948 # Krokodilopolis\n",
    "print(get_pleiades_coordinates(get_pleiades_json(pleiades_test)))"
   ]
  },
  {
   "cell_type": "code",
   "execution_count": 8,
   "metadata": {},
   "outputs": [
    {
     "name": "stdout",
     "output_type": "stream",
     "text": [
      "(30.66897, 29.532004)\n"
     ]
    }
   ],
   "source": [
    "pleiades_test = 737053 # Soknopaiou Nesos\n",
    "print(get_pleiades_coordinates(get_pleiades_json(pleiades_test)))"
   ]
  },
  {
   "cell_type": "code",
   "execution_count": 9,
   "metadata": {},
   "outputs": [
    {
     "name": "stdout",
     "output_type": "stream",
     "text": [
      "(31.255061, 29.849491)\n"
     ]
    }
   ],
   "source": [
    "pleiades_test = 736963 # Memphis\n",
    "print(get_pleiades_coordinates(get_pleiades_json(pleiades_test)))"
   ]
  },
  {
   "cell_type": "code",
   "execution_count": 10,
   "metadata": {},
   "outputs": [
    {
     "name": "stdout",
     "output_type": "stream",
     "text": [
      "(29.909773, 31.201435)\n"
     ]
    }
   ],
   "source": [
    "pleiades_test = 727070 # Alexandria\n",
    "print(get_pleiades_coordinates(get_pleiades_json(pleiades_test)))"
   ]
  },
  {
   "cell_type": "code",
   "execution_count": 11,
   "metadata": {},
   "outputs": [
    {
     "name": "stdout",
     "output_type": "stream",
     "text": [
      "(30.895832, 29.253514)\n"
     ]
    }
   ],
   "source": [
    "pleiades_test = 736918 # Hawara\n",
    "print(get_pleiades_coordinates(get_pleiades_json(pleiades_test)))"
   ]
  }
 ],
 "metadata": {
  "kernelspec": {
   "display_name": "Python 3",
   "language": "python",
   "name": "python3"
  },
  "language_info": {
   "codemirror_mode": {
    "name": "ipython",
    "version": 3
   },
   "file_extension": ".py",
   "mimetype": "text/x-python",
   "name": "python",
   "nbconvert_exporter": "python",
   "pygments_lexer": "ipython3",
   "version": "3.6.1"
  }
 },
 "nbformat": 4,
 "nbformat_minor": 2
}
